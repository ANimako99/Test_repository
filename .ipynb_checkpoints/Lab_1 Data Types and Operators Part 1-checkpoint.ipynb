{
 "cells": [
  {
   "cell_type": "markdown",
   "metadata": {
    "id": "Dt2szhc1hQqw"
   },
   "source": [
    "# Data Types and Operators Part 1\n"
   ]
  },
  {
   "cell_type": "markdown",
   "metadata": {
    "id": "zzSl5FLWhQq0"
   },
   "source": [
    "##### Some few things to note\n",
    "1. case sensitive\n",
    "2. spacing\n",
    "3. errors\n",
    "4. print function\n",
    "5. variable naming"
   ]
  },
  {
   "cell_type": "markdown",
   "metadata": {
    "id": "LwNsmzz0SBPs"
   },
   "source": [
    "# Print Statement\n",
    "\n",
    "The print() function a function used to display information to the console. That is, it is a command that is used to display as output a command that has been fed into the program"
   ]
  },
  {
   "cell_type": "code",
   "execution_count": 1,
   "metadata": {
    "colab": {
     "base_uri": "https://localhost:8080/"
    },
    "executionInfo": {
     "elapsed": 3,
     "status": "ok",
     "timestamp": 1703368194966,
     "user": {
      "displayName": "Anita Eshun",
      "userId": "04271786642173338017"
     },
     "user_tz": 0
    },
    "id": "gJvz-JfahQq1",
    "outputId": "a34d5b83-e784-4a17-e8c6-50c2864114aa"
   },
   "outputs": [
    {
     "name": "stdout",
     "output_type": "stream",
     "text": [
      "Aggie\n",
      "Hello people of Africa\n",
      "11\n",
      "True\n",
      "The value of x is 5\n",
      "The value of x is 5\n"
     ]
    }
   ],
   "source": [
    "print('Aggie')\n",
    "print('Hello people of Africa')\n",
    "print(6 + 5)\n",
    "print(True)\n",
    "x = 5\n",
    "\n",
    "## The below examples aare examples of formatting string. You can\n",
    "## think of string formatting as a way of making your code more\n",
    "## interesting\n",
    "print(f'The value of x is {x}')\n",
    "print('The value of x is {}'.format(x))"
   ]
  },
  {
   "cell_type": "code",
   "execution_count": 1,
   "metadata": {},
   "outputs": [
    {
     "name": "stdout",
     "output_type": "stream",
     "text": [
      "The Zen of Python, by Tim Peters\n",
      "\n",
      "Beautiful is better than ugly.\n",
      "Explicit is better than implicit.\n",
      "Simple is better than complex.\n",
      "Complex is better than complicated.\n",
      "Flat is better than nested.\n",
      "Sparse is better than dense.\n",
      "Readability counts.\n",
      "Special cases aren't special enough to break the rules.\n",
      "Although practicality beats purity.\n",
      "Errors should never pass silently.\n",
      "Unless explicitly silenced.\n",
      "In the face of ambiguity, refuse the temptation to guess.\n",
      "There should be one-- and preferably only one --obvious way to do it.\n",
      "Although that way may not be obvious at first unless you're Dutch.\n",
      "Now is better than never.\n",
      "Although never is often better than *right* now.\n",
      "If the implementation is hard to explain, it's a bad idea.\n",
      "If the implementation is easy to explain, it may be a good idea.\n",
      "Namespaces are one honking great idea -- let's do more of those!\n"
     ]
    }
   ],
   "source": [
    "import this"
   ]
  },
  {
   "cell_type": "markdown",
   "metadata": {
    "id": "tOmGuAlKhQq5"
   },
   "source": [
    "# Variables naming\n",
    "\n",
    "Variables are identifiers used to store or represent values. You can think of variables as storage box that is used to hold information.\n",
    "\n",
    "\n",
    "Variable naming:\n",
    "\n",
    "* Use small letters and underscores and numbers where necessary\n",
    "* Use meaningful names\n",
    "* Do not allow space (s) in variable names\n",
    "* Do not begin variables with numbers\n",
    "* Do not use numbers alone as variable names\n",
    "* Do not use python reserved words as a variable name\n",
    "* Variable names are case sensitive, which means that if you store 'Ama' in 'x', if you call 'X' you will get an error"
   ]
  },
  {
   "cell_type": "code",
   "execution_count": 9,
   "metadata": {
    "colab": {
     "base_uri": "https://localhost:8080/"
    },
    "executionInfo": {
     "elapsed": 5,
     "status": "ok",
     "timestamp": 1703368736570,
     "user": {
      "displayName": "Anita Eshun",
      "userId": "04271786642173338017"
     },
     "user_tz": 0
    },
    "id": "1rwDMMWmhQq5",
    "outputId": "fc0f713f-9092-4ab5-eccf-7025316ed34f"
   },
   "outputs": [
    {
     "name": "stdout",
     "output_type": "stream",
     "text": [
      "['Kelden', 'Dominic', 'Aurelia', 'Jessie', 'Jessica']\n"
     ]
    }
   ],
   "source": [
    "students_names = ['Kelden','Dominic','Aurelia','Jessie','Jessica']\n",
    "students_names\n",
    "#print(students_names)"
   ]
  },
  {
   "cell_type": "code",
   "execution_count": 15,
   "metadata": {
    "colab": {
     "base_uri": "https://localhost:8080/"
    },
    "executionInfo": {
     "elapsed": 514,
     "status": "ok",
     "timestamp": 1703369172388,
     "user": {
      "displayName": "Anita Eshun",
      "userId": "04271786642173338017"
     },
     "user_tz": 0
    },
    "id": "CwBNheG6hQq6",
    "outputId": "6219620a-b27e-4f0e-fc79-9c2894618a51"
   },
   "outputs": [
    {
     "name": "stdout",
     "output_type": "stream",
     "text": [
      "Samuel\n",
      "Benard\n"
     ]
    }
   ],
   "source": [
    "students_name = 'Samuel'\n",
    "print(students_name)\n",
    "\n",
    "Students_name = \"Benard\" # This wrong variable naming , the s shoudn't capitalized\n",
    "print(Students_name)"
   ]
  },
  {
   "cell_type": "code",
   "execution_count": null,
   "metadata": {
    "colab": {
     "base_uri": "https://localhost:8080/"
    },
    "executionInfo": {
     "elapsed": 413,
     "status": "ok",
     "timestamp": 1701791109098,
     "user": {
      "displayName": "Courses Content",
      "userId": "00634885927322614060"
     },
     "user_tz": 0
    },
    "id": "kYeqTBachQq8",
    "outputId": "5ef13f7b-e58a-493d-e38d-f151c536a4cc"
   },
   "outputs": [
    {
     "name": "stdout",
     "output_type": "stream",
     "text": [
      "The average mark is 30.25 \n"
     ]
    }
   ],
   "source": [
    "x = 24+45+56+7+8+90+2+10\n",
    "print(f\"The average mark is {x/8} \") #-----> an example of string literals"
   ]
  },
  {
   "cell_type": "markdown",
   "metadata": {
    "id": "HuMsrBXSua9G"
   },
   "source": [
    "### Demonstrations\n",
    "\n",
    "\n",
    "\n"
   ]
  },
  {
   "cell_type": "code",
   "execution_count": null,
   "metadata": {
    "id": "dkB-1RC9vNif"
   },
   "outputs": [],
   "source": []
  },
  {
   "cell_type": "markdown",
   "metadata": {
    "id": "GNnvhj9jPvXV"
   },
   "source": [
    "# Data Types\n",
    "\n",
    "\n",
    "You can check the variable type using the in-built function \"type()\"\n",
    "\n",
    "You can also change a variable from one type to the other.\n"
   ]
  },
  {
   "cell_type": "markdown",
   "metadata": {
    "id": "13eEjPBsPzZ7"
   },
   "source": [
    "## Integers\n",
    "\n",
    "Intergers are positive and negative whole numbers.\n",
    "In python, to we use 'int' to represent interger values\n",
    "\n",
    "The function 'type()' is used to check a variable's data type. The data type of a variable can be changed by passing the variable as an argument into the preferred data type"
   ]
  },
  {
   "cell_type": "code",
   "execution_count": 22,
   "metadata": {
    "colab": {
     "base_uri": "https://localhost:8080/"
    },
    "executionInfo": {
     "elapsed": 573,
     "status": "ok",
     "timestamp": 1703513402135,
     "user": {
      "displayName": "Anita Eshun",
      "userId": "04271786642173338017"
     },
     "user_tz": 0
    },
    "id": "tFLk9l5vTbKu",
    "outputId": "ad00e938-e4b5-4d2b-c6d0-2e179df6b1c2"
   },
   "outputs": [
    {
     "name": "stdout",
     "output_type": "stream",
     "text": [
      "<class 'int'>\n",
      "<class 'int'>\n"
     ]
    }
   ],
   "source": [
    "age = 3\n",
    "weight = 53\n",
    "print(type(age))\n",
    "print(type(weight))\n",
    "\n"
   ]
  },
  {
   "cell_type": "markdown",
   "metadata": {
    "id": "4z1CVW_HQP0N"
   },
   "source": [
    "## Float\n",
    "\n",
    "Floats: decimals or floating points. In python, floats are represented by \"float\""
   ]
  },
  {
   "cell_type": "code",
   "execution_count": 18,
   "metadata": {
    "colab": {
     "base_uri": "https://localhost:8080/"
    },
    "executionInfo": {
     "elapsed": 387,
     "status": "ok",
     "timestamp": 1703512498169,
     "user": {
      "displayName": "Anita Eshun",
      "userId": "04271786642173338017"
     },
     "user_tz": 0
    },
    "id": "ArYklp2vQT-r",
    "outputId": "bb878e1c-5432-4b49-8783-3da3defed19d"
   },
   "outputs": [
    {
     "name": "stdout",
     "output_type": "stream",
     "text": [
      "250.50656\n",
      "<class 'float'>\n"
     ]
    },
    {
     "data": {
      "text/plain": [
       "float"
      ]
     },
     "execution_count": 18,
     "metadata": {},
     "output_type": "execute_result"
    }
   ],
   "source": [
    "wage = 250.50656\n",
    "bmi = 12.55\n",
    "height = 5.6\n",
    "\n",
    "print(wage)\n",
    "print(type(wage))\n",
    "print(type(height))\n",
    "int(wage)\n",
    "type(wage)"
   ]
  },
  {
   "cell_type": "code",
   "execution_count": null,
   "metadata": {
    "id": "wOjo6xeDQoD3"
   },
   "outputs": [],
   "source": [
    "wage_int = int(wage)\n",
    "wage_int\n",
    "print(type(wage_int))\n",
    "print(wage)\n",
    "round(wage,3)"
   ]
  },
  {
   "cell_type": "code",
   "execution_count": null,
   "metadata": {
    "id": "R41yH94MhQrN",
    "outputId": "42dfe1ff-e168-4fb7-9019-d4570e215acd"
   },
   "outputs": [
    {
     "name": "stdout",
     "output_type": "stream",
     "text": [
      "45.0\n"
     ]
    }
   ],
   "source": [
    "age = 23\n",
    "age_float = float(age) # float()\n",
    "print(age_float)"
   ]
  },
  {
   "cell_type": "markdown",
   "metadata": {
    "id": "diQ7so5vQrBB"
   },
   "source": [
    "## Strings\n",
    "\n",
    "Strings are sequence of charaters that is used to represent textual data. They are immutable, which means that once it is created the characters can not be changed.\n",
    "String is created using single or double quote ('' or \"\"). Triple quotes can also be used for multiline string."
   ]
  },
  {
   "cell_type": "code",
   "execution_count": null,
   "metadata": {
    "id": "Ca6EctddQu63"
   },
   "outputs": [],
   "source": [
    "name = 'Esi is a Ghanaian day name'\n",
    "student_name = 'Mawuli'\n",
    "\n",
    "student_names = '''\n",
    "Juliet Mensah\n",
    "Abigail Kwao\n",
    "Fred Boamah\n",
    "\n",
    "\n",
    "'''"
   ]
  },
  {
   "cell_type": "markdown",
   "metadata": {
    "id": "tbsD24uwQy7l"
   },
   "source": [
    "## Boolean\n",
    "\n",
    "Boolean in python takes on the value of either 'True' or 'False'. It is usually used for logical operations, and can also be useful in conditional statements and control flow.\n",
    "\n",
    "We will see the use cases later in this lesson"
   ]
  },
  {
   "cell_type": "code",
   "execution_count": 19,
   "metadata": {
    "colab": {
     "base_uri": "https://localhost:8080/"
    },
    "executionInfo": {
     "elapsed": 418,
     "status": "ok",
     "timestamp": 1703512603969,
     "user": {
      "displayName": "Anita Eshun",
      "userId": "04271786642173338017"
     },
     "user_tz": 0
    },
    "id": "VqhNHAmOQ1Jl",
    "outputId": "9513aa4d-47ec-408e-8641-5e9b2acfe007"
   },
   "outputs": [
    {
     "name": "stdout",
     "output_type": "stream",
     "text": [
      "True\n",
      "False\n"
     ]
    }
   ],
   "source": [
    "True_state = True\n",
    "False_state = False\n",
    "print(True_state)\n",
    "print(False_state)"
   ]
  },
  {
   "cell_type": "markdown",
   "metadata": {
    "id": "SkKbgNS4SHMx"
   },
   "source": [
    "### Demonstrations\n"
   ]
  },
  {
   "cell_type": "code",
   "execution_count": null,
   "metadata": {
    "id": "QQkgbbsxSfOD"
   },
   "outputs": [],
   "source": []
  },
  {
   "cell_type": "markdown",
   "metadata": {
    "id": "0c19sF9A052G"
   },
   "source": [
    "# Operators\n",
    "\n",
    "Operators in python are symboles that are used to perform operations with values. The most common operators in python are:\n",
    "\n",
    "1. Arithmetic Operators\n",
    "2. Assignment Operators\n",
    "3. Logical Operators\n",
    "4. Comparison Operators\n",
    "5. Membership Operators"
   ]
  },
  {
   "cell_type": "markdown",
   "metadata": {
    "id": "2YHgSFWPhQq9"
   },
   "source": [
    "### Arithmetric Operators"
   ]
  },
  {
   "cell_type": "markdown",
   "metadata": {
    "id": "56GOc1O7hQq9"
   },
   "source": [
    "|Operator||Action|\n",
    "|----||----|\n",
    "|+||addition|\n",
    "|-||subtraction|\n",
    "|*||multiplication|\n",
    "|/|| division|\n",
    "|\\**||exponential|\n",
    "|%||modulo|\n",
    "|\\//|| integer division|"
   ]
  },
  {
   "cell_type": "code",
   "execution_count": null,
   "metadata": {
    "id": "KSLW1SJPhQq-"
   },
   "outputs": [],
   "source": [
    "# Addition\n",
    "\n",
    "a = 2\n",
    "b = 5\n",
    "c = a + b\n",
    "print(c)\n",
    "\n",
    "# Substraction\n",
    "c = b - a\n",
    "print(c)\n",
    "\n",
    "# Multiplication or product\n",
    "c = a * b\n",
    "print(c)\n",
    "\n",
    "# Division\n",
    "c = b/a\n",
    "print(c)\n",
    "\n",
    "# Exponential/Power\n",
    "c = b ** a\n",
    "print(c)\n",
    "\n",
    "# Modulo\n",
    "c = b % a\n",
    "print(c)\n",
    "\n",
    "# Integer/Floor Division\n",
    "c = b//a\n",
    "print(c)\n"
   ]
  },
  {
   "cell_type": "code",
   "execution_count": null,
   "metadata": {
    "id": "Y1K_ZvqphQrC",
    "outputId": "4653e79b-72ac-4e34-907f-81f327ffe689"
   },
   "outputs": [
    {
     "name": "stdout",
     "output_type": "stream",
     "text": [
      "15\n",
      "125\n"
     ]
    }
   ],
   "source": [
    "print(5*3) # Multiplication\n",
    "print(5**3) # Power\n",
    "print(7/2)# division\n",
    "print(7%2) # modulo\n",
    "print(7//2)# integer division"
   ]
  },
  {
   "cell_type": "markdown",
   "metadata": {
    "id": "yQFS2K9phQrC"
   },
   "source": [
    "### Assignment operators"
   ]
  },
  {
   "cell_type": "markdown",
   "metadata": {
    "id": "nfO840xnhQrC"
   },
   "source": [
    "These are used to assign or allocate values to variables. These are:\n",
    "\n",
    "1. Assign or Equal to =\n",
    "2. Add and Assign +=\n",
    "3. Substract and Assign -=\n",
    "4. Multiply and Assign *=\n",
    "5. Divide and Assign /="
   ]
  },
  {
   "cell_type": "code",
   "execution_count": 23,
   "metadata": {
    "colab": {
     "base_uri": "https://localhost:8080/"
    },
    "executionInfo": {
     "elapsed": 419,
     "status": "ok",
     "timestamp": 1703513850474,
     "user": {
      "displayName": "Anita Eshun",
      "userId": "04271786642173338017"
     },
     "user_tz": 0
    },
    "id": "Hhl-jxpZhQrD",
    "outputId": "aef72c1a-7b01-4158-bcd4-0f4588379e45"
   },
   "outputs": [
    {
     "name": "stdout",
     "output_type": "stream",
     "text": [
      "15\n",
      "13\n",
      "78\n",
      "15.6\n"
     ]
    }
   ],
   "source": [
    "# Assign or Equal to\n",
    "a = 10\n",
    "b = 'Print'\n",
    "\n",
    "# Add and Assign\n",
    "a = a + 5   # Whcih is the same as a = a + 5\n",
    "print(a)\n",
    "\n",
    "\n",
    "# Substact and Assign\n",
    "a = a - 2   # Whcih is the same as a = a - 5\n",
    "print(a)\n",
    "\n",
    "# Multiply and Assign\n",
    "a = a * 6   # Whcih is the same as a = a * 5\n",
    "print(a)\n",
    "\n",
    "# Divide and Assign\n",
    "a = a / 5   # Whcih is the same as a = a / 5\n",
    "print(a)"
   ]
  },
  {
   "cell_type": "code",
   "execution_count": 3,
   "metadata": {
    "colab": {
     "base_uri": "https://localhost:8080/"
    },
    "executionInfo": {
     "elapsed": 396,
     "status": "ok",
     "timestamp": 1703508235017,
     "user": {
      "displayName": "Anita Eshun",
      "userId": "04271786642173338017"
     },
     "user_tz": 0
    },
    "id": "VFbU5sK_hQrD",
    "outputId": "0924b00c-efe1-404d-f218-2da290c39760"
   },
   "outputs": [
    {
     "name": "stdout",
     "output_type": "stream",
     "text": [
      "13\n",
      "55\n",
      "29\n"
     ]
    }
   ],
   "source": [
    "a,b,c = 13,55,29\n",
    "print(a)\n",
    "print(b)\n",
    "print(c)"
   ]
  },
  {
   "cell_type": "markdown",
   "metadata": {
    "id": "V1Dv5ZuwHDy5"
   },
   "source": [
    "## Logical Operators\n",
    "\n",
    "These operators are used to combine two or more Boolean values. These are:\n",
    "\n",
    "|Operator||Action|\n",
    "|----||----|\n",
    "|and (&)||evaluates if both sides are True|\n",
    "|or (\\|)||evaluates if at least one side is True|\n",
    "|not||inverses a boolean|"
   ]
  },
  {
   "cell_type": "code",
   "execution_count": 2,
   "metadata": {
    "id": "tG3J8i07H4z_"
   },
   "outputs": [
    {
     "name": "stdout",
     "output_type": "stream",
     "text": [
      "False\n",
      "False\n",
      "False\n",
      "True\n",
      "False\n",
      "True\n",
      "True\n",
      "True\n",
      "True\n",
      "True\n"
     ]
    }
   ],
   "source": [
    "a = True\n",
    "b = False\n",
    "c = False\n",
    "\n",
    "# and\n",
    "print(a and b)\n",
    "print(b and c)\n",
    "print(a and b and c)\n",
    "\n",
    "# or\n",
    "print(a or b)\n",
    "print(b or c)\n",
    "print(a or b or c)\n",
    "\n",
    "# not\n",
    "print(not b)\n",
    "print(not c)\n",
    "\n",
    "print(not (b and c))\n",
    "print(a or (b and c))"
   ]
  },
  {
   "cell_type": "code",
   "execution_count": null,
   "metadata": {
    "id": "3VRlWPLvhQrT",
    "outputId": "877b07d0-96e2-498c-9417-316626a6e579"
   },
   "outputs": [
    {
     "name": "stdout",
     "output_type": "stream",
     "text": [
      "241\n",
      "365\n"
     ]
    }
   ],
   "source": [
    "for i in range(len(income)):\n",
    "    if not(income[i] >= 1000):\n",
    "        print(income[i])"
   ]
  },
  {
   "cell_type": "markdown",
   "metadata": {
    "id": "Wb6nYB4WhQrQ"
   },
   "source": [
    "## Comparison operators\n",
    "\n",
    "The comparison are used to compare values and then return a Boolean value. These are:\n",
    "\n",
    "|Operator||Meaning|\n",
    "|----||----|\n",
    "|<||less than|\n",
    "|>||greater than|\n",
    "|<=||less than or equals to|\n",
    "|>=||greater than or equals to|\n",
    "|==||equals to|\n",
    "|!=|| not equals to|"
   ]
  },
  {
   "cell_type": "code",
   "execution_count": null,
   "metadata": {
    "id": "A2llbWA-IxhR"
   },
   "outputs": [],
   "source": [
    "a = 3\n",
    "b = 6\n",
    "c = 3\n",
    "d = 2\n",
    "\n",
    "# Equal to\n",
    "print(a == b)\n",
    "print(a != b)\n",
    "print(d > b)\n",
    "print(b < c)\n",
    "print(a >= d)\n",
    "print(b <= c)"
   ]
  },
  {
   "cell_type": "code",
   "execution_count": 14,
   "metadata": {
    "colab": {
     "base_uri": "https://localhost:8080/"
    },
    "executionInfo": {
     "elapsed": 505,
     "status": "ok",
     "timestamp": 1703511498772,
     "user": {
      "displayName": "Anita Eshun",
      "userId": "04271786642173338017"
     },
     "user_tz": 0
    },
    "id": "gZ3Oi0-shQrU",
    "outputId": "1d4bd799-d8bb-48a3-fea0-b0f5221bd9da"
   },
   "outputs": [
    {
     "data": {
      "text/plain": [
       "True"
      ]
     },
     "execution_count": 14,
     "metadata": {},
     "output_type": "execute_result"
    }
   ],
   "source": [
    "7 > 5 and 3<2\n",
    "\n",
    "4>3 >2\n",
    "\n",
    "#eg 1\n",
    "100 <200 and 100 <50\n",
    "# True    and   False = False\n",
    "\n",
    "#eg 2\n",
    "100 >200 or 100 <50 # since both conditions are False, the whole expression is False based on the or operator\n",
    "\n",
    "#eg 2\n",
    "not(100 >200 or 100 <50) # The not negates the boolean.It turns True to False and False to True"
   ]
  },
  {
   "cell_type": "markdown",
   "metadata": {
    "id": "C-Oj4LHQPJRT"
   },
   "source": [
    "## Membership Operators\n",
    "\n",
    "These are used to check if an element is part of a given sequence. We have the 'in' and 'not in'. This returns a boolean *value*"
   ]
  },
  {
   "cell_type": "code",
   "execution_count": null,
   "metadata": {
    "id": "9tt2c6lkPRi_"
   },
   "outputs": [],
   "source": [
    "names = ['Ola','Betrida','Nana','Pierre']\n",
    "numb = [2,3,7,3,9]\n",
    "\n",
    "print(4 in numb)\n",
    "print(4 not in numb)\n",
    "print('Ola' in names)\n",
    "print('Mike' in names)\n",
    "\n",
    "# sub = ['Betrida','Nana','Nadine']\n",
    "# l = []\n",
    "# for i in sub:\n",
    "#     if i in names:\n",
    "#         l.append(i)\n",
    "#         print(l)"
   ]
  },
  {
   "cell_type": "markdown",
   "metadata": {
    "id": "UrzuWgLtOAWZ"
   },
   "source": [
    "## Demonstrations"
   ]
  },
  {
   "cell_type": "code",
   "execution_count": null,
   "metadata": {
    "id": "UBbADPuxhQrb"
   },
   "outputs": [],
   "source": []
  },
  {
   "cell_type": "markdown",
   "metadata": {
    "id": "bqAtNW4vPUhl"
   },
   "source": [
    "# Trial\n",
    "\n",
    "1. Create 3 variables, two integers and one float.\n",
    "   a. Print out the types of the variables\n",
    "   b. Change the types of the variables\n",
    "   c. Perform arithmetic operations on the variables\n",
    "\n",
    "2. Ask a user to input two numbers and compare whether the numbers are equal,greater than, or less than\n",
    "3. Create two boolean variables called 'is_true' and 'is_false', and perform logical AND, OR, and NOT operations on then\n",
    "4. Ask a user to input a number called 'balance'. Use '+=' and '-=' to add and substact respectively 5,assign each to 'balance' (thus, don't change the variable names for each case), and print the results. Observe the values and discuss.\n",
    "5. Create a list of names. Check if a specific name is in the list and print the reslult.\n",
    "\n",
    "    *_Challenge_*: Create a list of names, and check if the elements in another list of names are present in the first list"
   ]
  }
 ],
 "metadata": {
  "colab": {
   "provenance": []
  },
  "kernelspec": {
   "display_name": "Python 3 (ipykernel)",
   "language": "python",
   "name": "python3"
  },
  "language_info": {
   "codemirror_mode": {
    "name": "ipython",
    "version": 3
   },
   "file_extension": ".py",
   "mimetype": "text/x-python",
   "name": "python",
   "nbconvert_exporter": "python",
   "pygments_lexer": "ipython3",
   "version": "3.11.5"
  }
 },
 "nbformat": 4,
 "nbformat_minor": 1
}
